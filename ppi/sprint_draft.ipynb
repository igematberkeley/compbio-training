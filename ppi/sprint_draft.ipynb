{
 "cells": [
  {
   "cell_type": "markdown",
   "metadata": {},
   "source": [
    "# Welcome to the PPI project! \n",
    "\n",
    "The goal of this Training Sprint is to get everyone acquainted and comfortable with the tools and concepts that we will be using to work on this project. In this notebook, we will be going over some of the general terms, concepts, and software we will be using.\n",
    "\n",
    "## Software and Tools\n",
    "\n",
    "We will be using Rosetta, ROSIE, and PyMol.\n",
    "\n",
    "### What is Rosetta?\n",
    "\n",
    "Rosetta is a large macromolecular software suite developed by the Baker lab at the University of Washington. It includes a variety of algorithms tailored to the computational modeling, analysis, design, and prediction of protein structures. You can read more about Rosetta [here](https://new.rosettacommons.org/docs/latest/Home). You are encouraged to browse the website and take a look at descriptions for different algorithms/functions to get a better sense of how and why Rosetta is used.\n",
    "\n",
    "### What is ROSIE?\n",
    "\n",
    "[ROSIE](https://rosie.graylab.jhu.edu/) stands for the Rosetta Online Server that Includes Everyone. It is a web interface for some (not all) Rosetta functions. Anyone can submit a job for a particular algorithm. The results are computed and returned to the user once the task is completed. This can be useful for us to submit easy jobs or double-check some of our work. The results also include a lot of additional visualizations, which are useful for us to analyze. A major con of using ROSIE, however, is that we never know how long it will take for us to get our results. It is also susceptible to random errors and only certain protocols are available, so we can't rely on it over the course of the project.\n",
    "\n",
    "### What is PyMOL?\n",
    "\n",
    "[PyMOL](https://en.wikipedia.org/wiki/PyMOL) is a molecular visualization software. It allows us to take a closer look at the structures of specific proteins/PPIs, and we can use it to compare changes in the structures following any modifications we make."
   ]
  },
  {
   "cell_type": "markdown",
   "metadata": {},
   "source": [
    "### Major concepts/terms\n",
    "\n",
    "There are a lot of concepts and terms associated with macromolecular modeling and Rosetta as a whole. [Here](https://drive.google.com/file/d/1P2LDLs0kUTRWMl5jFfE036RdSXtPXcLp/view?usp=sharing) is a quick guide, created by our former grad student advisor, Amy, for some of the major concepts we will be learning about/using. The most important terms/concepts are the following: \n",
    "\n",
    "* Alpha helix\n",
    "* Beta sheet\n",
    "* Backbone \n",
    "* Binding affinity/energy\n",
    "* Cartesian coordinates\n",
    "* Chain\n",
    "* Conformation \n",
    "* Design\n",
    "* Docking\n",
    "* Fixed backbone design vs flexible backbone design\n",
    "* Fragment\n",
    "* Global vs local minimum\n",
    "* Interface\n",
    "* Internal coordinates\n",
    "* Low vs high energy\n",
    "* Minimization \n",
    "* Monte Carlo\n",
    "* Scoring function\n",
    "* PDB\n",
    "* Pose\n",
    "* Residue\n",
    "* REU\n",
    "* RMSD\n",
    "* Sequence\n",
    "* Side chain\n",
    "\n",
    "Please read through this guide and answer the following questions to the best of your ability. You may also find it helpful to do some further research as you try to answer these questions. "
   ]
  },
  {
   "cell_type": "markdown",
   "metadata": {},
   "source": [
    "**In your own words, what is a PDB file? Throughout the course of our project, we will be pulling PDB files from [this database](https://www.rcsb.org/). Try looking up a PDB file for the p53-MDM2 or p53-MDMX PPI. What kind of information is available on the webpage for the PPI?**"
   ]
  },
  {
   "cell_type": "markdown",
   "metadata": {},
   "source": []
  },
  {
   "cell_type": "markdown",
   "metadata": {},
   "source": [
    "**In your own words, describe binding affinity and binding energy. What do low and high values mean in the context of binding affinity and binding energy?**"
   ]
  },
  {
   "cell_type": "markdown",
   "metadata": {},
   "source": []
  },
  {
   "cell_type": "markdown",
   "metadata": {},
   "source": [
    "**What is the difference between a global and a local minimum in the context of macromolecular modeling?**"
   ]
  },
  {
   "cell_type": "markdown",
   "metadata": {},
   "source": []
  },
  {
   "cell_type": "markdown",
   "metadata": {},
   "source": [
    "**What is the RMSD? What does this tell us?**"
   ]
  },
  {
   "cell_type": "markdown",
   "metadata": {},
   "source": []
  },
  {
   "cell_type": "markdown",
   "metadata": {},
   "source": [
    "**Please watch [this video about scoring functions](https://www.youtube.com/watch?v=UZzYcOl8oVE&list=PLYuStm_BniykhlMFAus-UEwR-_qmAVWsK&index=3). In your own words, what is a scoring function, and why is this important for the purposes of our project?**"
   ]
  },
  {
   "cell_type": "markdown",
   "metadata": {},
   "source": []
  },
  {
   "cell_type": "markdown",
   "metadata": {},
   "source": [
    "## Downloads\n",
    "\n",
    "Follow [this](https://docs.google.com/document/d/1evlM9YepXJWTn-zWSFIwE0JX8IX1I1CwXPN5RGdXGCc/edit?usp=sharing) guide to download the **Rosetta Software Suite** and **PyMol**."
   ]
  },
  {
   "cell_type": "markdown",
   "metadata": {},
   "source": [
    "## PeptiDerive and PyMol\n",
    "\n",
    "In the next section, we will run through a simplified version of the PeptiDerive step of our workflow, on sigma-70 and an E. coli sigma-70 regulator.\n",
    "\n",
    "1. Navigate to the [RCSB PDB Database](https://www.rcsb.org/). Find structure 2P7V (\"Crystal structure of the Escherichia coli regulator of sigma 70, Rsd, in complex with sigma 70 domain 4\"). Look around on the website!\n",
    "\n",
    "##### RCSB Q: What are the two chains present in 2P7V? How many amino acids are in each chain?"
   ]
  },
  {
   "cell_type": "markdown",
   "metadata": {},
   "source": [
    "2. Download the file in a PDB Format.\n",
    "3. Launch PyMOL. Open this file in PyMOL (File >> Open, or drag and drop in the file).\n",
    "4. Click around and explore! "
   ]
  },
  {
   "cell_type": "markdown",
   "metadata": {},
   "source": [
    "##### Exploring PyMOL Q1: What sort of structures do you see in each chain? "
   ]
  },
  {
   "cell_type": "markdown",
   "metadata": {},
   "source": []
  },
  {
   "cell_type": "markdown",
   "metadata": {},
   "source": [
    "##### Exploring PyMOL Q2: Go to Display >> Sequence. The amino acid sequences should pop up. You can also see this sequence information on the PDB website! In PyMOL, click around in the sequence of amino acids. What are the first six amino acids of each chain?"
   ]
  },
  {
   "cell_type": "code",
   "execution_count": null,
   "metadata": {},
   "outputs": [],
   "source": []
  },
  {
   "cell_type": "markdown",
   "metadata": {},
   "source": [
    "## Example of Running PeptiDerive Locally"
   ]
  },
  {
   "cell_type": "markdown",
   "metadata": {},
   "source": [
    "**Disclaimer**. You will be copying and pasting these UNIX commands into a terminal on your computer and running these commands locally. As a result, you will need a terminal to run these commands in. Mac users should have a built-in terminal that works already (Spotlight Search \"Terminal,\" and it should pop up). For Windows users, I recommend installing a Windows Subsystem for Linux. My favorite is Ubuntu. [Here](https://ubuntu.com/tutorials/install-ubuntu-on-wsl2-on-windows-10#1-overview) is a guide for downloading Ubuntu on Windows. "
   ]
  },
  {
   "cell_type": "markdown",
   "metadata": {},
   "source": [
    "Also, any command you are running locally is proceeded by a bullet point to help make the document easier to read."
   ]
  },
  {
   "cell_type": "markdown",
   "metadata": {},
   "source": [
    "Ok now that we have a terminal set up, we are ready to begin. \n",
    "1. Change your current working directory in the terminal to the folder that is currently storing the folder that houses Rosetta. You can do this by using the following command where you replace \"/my/path/to/folder\" with the path to the folder containg the Rosetta folder that is specific to your local device. \n",
    "\n",
    "* cd /my/path/to/folder\n",
    "\n",
    "If you did it right, then when you run the following UNIX command, you should see \"Rosetta\" as one of the folders listed.\n",
    "\n",
    "* ls -la"
   ]
  },
  {
   "cell_type": "markdown",
   "metadata": {},
   "source": [
    "Next let's begin actually running Peptiderive locally.\n",
    "\n",
    "2. We first download all of the chains for both proteins involved in the Protein-Protein Interaction (chains A and B) with the following 2 commands. **Disclaimer**: The path to the tools folder may be slightly different for you when you first download Rosetta. You may need to change the section of the path \"/Rosetta/tools\" to something like \"Rosetta/data/tools\" depending on the structure of Rosetta when you downloaded it\n",
    "\n",
    "* python3 ./Rosetta/tools/protein_tools/scripts/clean_pdb.py 2p7v A\n",
    "\n",
    "* python3 ./Rosetta/tools/protein_tools/scripts/clean_pdb.py 2p7v B"
   ]
  },
  {
   "cell_type": "markdown",
   "metadata": {},
   "source": [
    "\n",
    "Outputs: One PDB file for each chain downloaded. "
   ]
  },
  {
   "cell_type": "markdown",
   "metadata": {},
   "source": [
    "Next lets combine these chains into a single pdb file called 2p7v_complex.pdb using the following two commands. \n",
    "\n",
    "3. First we copy the PDB file for one chain and save the copy as \"2p7v_complex.pdb\" using the first command. Then, we add every other chain to the end of the 2p7v_complex.pdb file using commands like the second.\n",
    "\n",
    "* cp 2p7v_A.pdb 2p7v_complex.pdb\n",
    "\n",
    "* cat 2p7v_B.pdb >> 2p7v_complex.pdb\n"
   ]
  },
  {
   "cell_type": "markdown",
   "metadata": {},
   "source": [
    "Output: A PDB file representing the protein complex for the 2p7v Protein-Protein Interaction."
   ]
  },
  {
   "cell_type": "markdown",
   "metadata": {},
   "source": [
    "Now let's make sure that this code ran correctly. Open up both the PDB file you downloaded from the RCSB database( I will call this file 2p7v.pdb but you may have to replace it with a different file name) and 2p7v_complex.pdb in PyMOL. We can use the following command within PyMOL to compare the RMSD between the 2p7v.pdb and 2p7v_complex.pdb file. This command is input into the text box right of \"PyMOL>\" written in blue text. \n",
    "\n",
    "* align 2p7v_complex, 2p7v\n",
    "\n",
    "Answer the following question below.\n",
    "\n",
    "**What is the RMSD value shown after executing this command? Why does it make sense that this value is the RMSD when comparing these two pdb files?**"
   ]
  },
  {
   "cell_type": "markdown",
   "metadata": {},
   "source": []
  },
  {
   "cell_type": "markdown",
   "metadata": {},
   "source": [
    "Before you begin this step make sure you navigate to the iGEM google folder, download the files in the folder called \"PeptiDerive_local\" and move each file individually into the same folder that is housing the Rosetta folder. Otherwise, the final UNIX command will not run correctly. \n",
    "\n",
    "4. Finally lets run Peptiderive on the protein complex for the 2p7v Protein-Protein Interaction. **Disclaimer**: Again you may have to change the \"/Rosetta/source\" to something like \"Rosetta/data/source\" if you had to make this change previously. \n",
    "\n",
    "* ./Rosetta/source/bin/rosetta_scripts.static.linuxgccrelease \\@ options.txt \\-in:file:s ./2p7v_complex.pdb -overwrite"
   ]
  },
  {
   "cell_type": "markdown",
   "metadata": {},
   "source": [
    "Outputs: \n",
    "1. 2 PDB files containing the best peptide bound to their respective receptor protein: \"receptorA_partnerB_10aa_best_linear_linear_peptide_complex.pdb\" and \"receptorB_partnerA_10aa_best_linear_linear_peptide_complex.pdb\". \n",
    "2. 2 documents containing relevant scores from the analysis: \"score.sc\" and \"2p7v_complex.peptiderive.txt\". \n",
    "3. 1 PDB file representing the complex of the chains A and B bound together: \"AB_2p7v_complex.pdb\"."
   ]
  },
  {
   "cell_type": "markdown",
   "metadata": {},
   "source": [
    "Let's examine the file 2p7v_complex.peptiderive.txt to get a better sense on how these two potential inhibitors stack against each other. Since we want our peptide to act as the best competitive inhibitor for one of the proteins in the Protein-Protein Interaction, we want to use the peptide with the lower binding energy. After opening this txt file, you should see a small table with a column called \"Interace score\". This value represents the binding energy required for this peptide to bind to its corresponding receptor protein."
   ]
  },
  {
   "cell_type": "markdown",
   "metadata": {},
   "source": [
    "Answer the following question in the space below.\n",
    "\n",
    "**What is the binding energy for the peptide with chain A as its receptor? With chain B as its receptor? Which peptide should we select as the best candidate to further examine based on this score?**"
   ]
  },
  {
   "cell_type": "markdown",
   "metadata": {},
   "source": []
  },
  {
   "cell_type": "markdown",
   "metadata": {},
   "source": [
    "# Note for Jessica: \n",
    "#### [Add sections explaining FlexPepDock and PepSpec but not running these]"
   ]
  },
  {
   "cell_type": "markdown",
   "metadata": {},
   "source": [
    "## Sources\n",
    "\n"
   ]
  },
  {
   "cell_type": "markdown",
   "metadata": {},
   "source": []
  }
 ],
 "metadata": {
  "kernelspec": {
   "display_name": "Python 3.9.6 64-bit",
   "language": "python",
   "name": "python3"
  },
  "language_info": {
   "name": "python",
   "version": "3.9.6"
  },
  "orig_nbformat": 4,
  "vscode": {
   "interpreter": {
    "hash": "aee8b7b246df8f9039afb4144a1f6fd8d2ca17a180786b69acc140d282b71a49"
   }
  }
 },
 "nbformat": 4,
 "nbformat_minor": 2
}
